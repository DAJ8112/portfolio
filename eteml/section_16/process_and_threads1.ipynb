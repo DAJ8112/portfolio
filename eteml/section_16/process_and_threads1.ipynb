{
 "cells": [
  {
   "cell_type": "markdown",
   "metadata": {},
   "source": [
    "#### Thread, Process and multithreading and multiprocessing"
   ]
  },
  {
   "cell_type": "code",
   "execution_count": 6,
   "metadata": {},
   "outputs": [],
   "source": [
    "import threading\n",
    "import multiprocessing\n",
    "import time"
   ]
  },
  {
   "cell_type": "code",
   "execution_count": null,
   "metadata": {},
   "outputs": [],
   "source": [
    "def print_numbers():\n",
    "    for i in range(1, 11):\n",
    "        print(i)\n",
    "        time.sleep(1)\n",
    "        \n",
    "def print_letters():\n",
    "    for i in range(97, 107):  # ASCII values for 'a' to 'j'\n",
    "        print(chr(i))\n",
    "        time.sleep(1)"
   ]
  },
  {
   "cell_type": "markdown",
   "metadata": {},
   "source": [
    "##### without any threading or processes"
   ]
  },
  {
   "cell_type": "code",
   "execution_count": 3,
   "metadata": {},
   "outputs": [
    {
     "name": "stdout",
     "output_type": "stream",
     "text": [
      "1\n",
      "2\n",
      "3\n",
      "4\n",
      "5\n",
      "6\n",
      "7\n",
      "8\n",
      "9\n",
      "10\n",
      "a\n",
      "b\n",
      "c\n",
      "d\n",
      "e\n",
      "f\n",
      "g\n",
      "h\n",
      "i\n",
      "j\n",
      "Time taken = 40.04554200172424s\n"
     ]
    }
   ],
   "source": [
    "start_time = time.time()\n",
    "print_numbers()\n",
    "print_letters()\n",
    "fin_time = time.time()\n",
    "print(f\"Time taken = {fin_time-start_time}s\")"
   ]
  },
  {
   "cell_type": "code",
   "execution_count": 4,
   "metadata": {},
   "outputs": [
    {
     "name": "stdout",
     "output_type": "stream",
     "text": [
      "1\n",
      "a\n",
      "2\n",
      "b\n",
      "3\n",
      "c\n",
      "4\n",
      "d\n",
      "5\n",
      "e\n",
      "6\n",
      "f\n",
      "7\n",
      "g\n",
      "8h\n",
      "\n",
      "i9\n",
      "\n",
      "10j\n",
      "\n",
      "Time taken = 20.02422261238098s\n"
     ]
    }
   ],
   "source": [
    "t1 = threading.Thread(target=print_numbers)\n",
    "t2 = threading.Thread(target=print_letters)\n",
    "\n",
    "start_time = time.time()\n",
    "\n",
    "t1.start()\n",
    "t2.start()\n",
    "\n",
    "t1.join()\n",
    "t2.join()\n",
    "\n",
    "fin_time = time.time()\n",
    "print(f\"Time taken = {fin_time-start_time}s\")"
   ]
  },
  {
   "cell_type": "code",
   "execution_count": 11,
   "metadata": {},
   "outputs": [],
   "source": [
    "def print_squares():\n",
    "    for i in range(1, 11):\n",
    "        print(f\"Square of {i} is {i**2}\")\n",
    "        time.sleep(1)\n",
    "\n",
    "def print_cubes():\n",
    "    for i in range(1, 11):\n",
    "        print(f\"Cube of {i} is {i**3}\")\n",
    "        time.sleep(1)"
   ]
  },
  {
   "cell_type": "code",
   "execution_count": 15,
   "metadata": {},
   "outputs": [],
   "source": [
    "p11 = threading.Thread(target=print_squares)\n",
    "p22 = threading.Thread(target=print_cubes)"
   ]
  },
  {
   "cell_type": "code",
   "execution_count": 16,
   "metadata": {},
   "outputs": [
    {
     "name": "stdout",
     "output_type": "stream",
     "text": [
      "Square of 1 is 1\n",
      "Cube of 1 is 1\n",
      "Square of 2 is 4\n",
      "Cube of 2 is 8\n",
      "Square of 3 is 9\n",
      "Cube of 3 is 27\n",
      "Square of 4 is 16\n",
      "Cube of 4 is 64\n",
      "Square of 5 is 25\n",
      "Cube of 5 is 125\n",
      "Square of 6 is 36\n",
      "Cube of 6 is 216\n",
      "Square of 7 is 49Cube of 7 is 343\n",
      "\n",
      "Cube of 8 is 512\n",
      "Square of 8 is 64\n",
      "Cube of 9 is 729\n",
      "Square of 9 is 81\n",
      "Cube of 10 is 1000\n",
      "Square of 10 is 100\n",
      "Time taken = 10.014509201049805s\n"
     ]
    }
   ],
   "source": [
    "start_time = time.time()\n",
    "\n",
    "p11.start()\n",
    "p22.start()\n",
    "\n",
    "p11.join()\n",
    "p22.join()\n",
    "\n",
    "fin_time = time.time()\n",
    "print(f\"Time taken = {fin_time-start_time}s\")"
   ]
  },
  {
   "cell_type": "code",
   "execution_count": 17,
   "metadata": {},
   "outputs": [],
   "source": [
    "p1 = multiprocessing.Process(target=print_numbers)\n",
    "p2 = multiprocessing.Process(target=print_letters)"
   ]
  },
  {
   "cell_type": "code",
   "execution_count": 18,
   "metadata": {},
   "outputs": [
    {
     "name": "stdout",
     "output_type": "stream",
     "text": [
      "1\n",
      "a\n",
      "2\n",
      "b\n",
      "3\n",
      "c\n",
      "4\n",
      "d\n",
      "5\n",
      "e\n",
      "6\n",
      "f\n",
      "7\n",
      "g\n",
      "8\n",
      "h\n",
      "9\n",
      "i\n",
      "10\n",
      "j\n",
      "Time taken = 20.069767475128174s\n"
     ]
    }
   ],
   "source": [
    "start_time = time.time()\n",
    "\n",
    "p1.start()\n",
    "p2.start()\n",
    "\n",
    "p1.join()\n",
    "p2.join()\n",
    "\n",
    "fin_time = time.time()\n",
    "print(f\"Time taken = {fin_time-start_time}s\")"
   ]
  },
  {
   "cell_type": "code",
   "execution_count": 12,
   "metadata": {},
   "outputs": [],
   "source": [
    "p1 = multiprocessing.Process(target=print_squares)\n",
    "p2 = multiprocessing.Process(target=print_cubes)"
   ]
  },
  {
   "cell_type": "code",
   "execution_count": 13,
   "metadata": {},
   "outputs": [
    {
     "name": "stdout",
     "output_type": "stream",
     "text": [
      "Square of 1 is 1\n",
      "Cube of 1 is 1\n",
      "Square of 2 is 4\n",
      "Cube of 2 is 8\n",
      "Square of 3 is 9\n",
      "Cube of 3 is 27\n",
      "Square of 4 is 16\n",
      "Cube of 4 is 64\n",
      "Square of 5 is 25\n",
      "Cube of 5 is 125\n",
      "Square of 6 is 36\n",
      "Cube of 6 is 216\n",
      "Square of 7 is 49\n",
      "Cube of 7 is 343\n",
      "Square of 8 is 64Cube of 8 is 512\n",
      "\n",
      "Square of 9 is 81Cube of 9 is 729\n",
      "\n",
      "Cube of 10 is 1000Square of 10 is 100\n",
      "\n",
      "Time taken = 10.052714586257935s\n"
     ]
    }
   ],
   "source": [
    "start_time = time.time()\n",
    "\n",
    "p1.start()\n",
    "p2.start()\n",
    "\n",
    "p1.join()\n",
    "p2.join()\n",
    "\n",
    "fin_time = time.time()\n",
    "print(f\"Time taken = {fin_time-start_time}s\")"
   ]
  }
 ],
 "metadata": {
  "kernelspec": {
   "display_name": "base",
   "language": "python",
   "name": "python3"
  },
  "language_info": {
   "codemirror_mode": {
    "name": "ipython",
    "version": 3
   },
   "file_extension": ".py",
   "mimetype": "text/x-python",
   "name": "python",
   "nbconvert_exporter": "python",
   "pygments_lexer": "ipython3",
   "version": "3.10.9"
  }
 },
 "nbformat": 4,
 "nbformat_minor": 2
}
