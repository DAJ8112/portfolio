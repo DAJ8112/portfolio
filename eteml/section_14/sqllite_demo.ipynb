{
 "cells": [
  {
   "cell_type": "code",
   "execution_count": 1,
   "metadata": {},
   "outputs": [],
   "source": [
    "import sqlite3"
   ]
  },
  {
   "cell_type": "code",
   "execution_count": 2,
   "metadata": {},
   "outputs": [
    {
     "data": {
      "text/plain": [
       "<sqlite3.Connection at 0x7f1bec264a40>"
      ]
     },
     "execution_count": 2,
     "metadata": {},
     "output_type": "execute_result"
    }
   ],
   "source": [
    "connection = sqlite3.connect('example.db')\n",
    "connection"
   ]
  },
  {
   "cell_type": "code",
   "execution_count": 3,
   "metadata": {},
   "outputs": [],
   "source": [
    "cursor = connection.cursor()"
   ]
  },
  {
   "cell_type": "code",
   "execution_count": 4,
   "metadata": {},
   "outputs": [],
   "source": [
    "# Create a Table\n",
    "\n",
    "cursor.execute('''\n",
    "CREATE Table If Not Exists employees(\n",
    "    id Integer Primary Key,\n",
    "    name Text Not Null,\n",
    "    age Integer,\n",
    "    department text \n",
    "    )\n",
    "''')\n",
    "\n",
    "connection.commit()"
   ]
  },
  {
   "cell_type": "code",
   "execution_count": 5,
   "metadata": {},
   "outputs": [
    {
     "data": {
      "text/plain": [
       "<sqlite3.Cursor at 0x7f1bec4498c0>"
      ]
     },
     "execution_count": 5,
     "metadata": {},
     "output_type": "execute_result"
    }
   ],
   "source": [
    "cursor.execute('''\n",
    "select * from employees\n",
    "''')"
   ]
  },
  {
   "cell_type": "code",
   "execution_count": 6,
   "metadata": {},
   "outputs": [],
   "source": [
    "# Insert the data in the table\n",
    "\n",
    "cursor.execute('''\n",
    "INSERT Into employees(name, age, department)\n",
    "                values('DJ', 40, 'hr')\n",
    "               ''')\n",
    "\n",
    "\n",
    "cursor.execute('''\n",
    "INSERT Into employees(name, age, department)\n",
    "                values('AJ', 41, 'operations')\n",
    "               ''')\n",
    "\n",
    "\n",
    "cursor.execute('''\n",
    "INSERT Into employees(name, age, department)\n",
    "                values('Mark', 28, 'sales')\n",
    "               ''')\n",
    "\n",
    "connection.commit()"
   ]
  },
  {
   "cell_type": "code",
   "execution_count": 7,
   "metadata": {},
   "outputs": [
    {
     "name": "stdout",
     "output_type": "stream",
     "text": [
      "(1, 'DJ', 40, 'hr')\n",
      "(2, 'AJ', 41, 'operations')\n",
      "(3, 'Mark', 28, 'sales')\n"
     ]
    }
   ],
   "source": [
    "# Query the data from the sqlite table\n",
    "\n",
    "cursor.execute('select * from employees')\n",
    "rows = cursor.fetchall()\n",
    "\n",
    "for row in rows:\n",
    "    print(row)"
   ]
  },
  {
   "cell_type": "code",
   "execution_count": 8,
   "metadata": {},
   "outputs": [],
   "source": [
    "# Update the data in the table\n",
    "\n",
    "cursor.execute('''\n",
    "    UPDATE employees\n",
    "    Set age = 35\n",
    "    where name=\"DJ\"\n",
    "''')\n",
    "\n",
    "connection.commit()"
   ]
  },
  {
   "cell_type": "code",
   "execution_count": 10,
   "metadata": {},
   "outputs": [
    {
     "name": "stdout",
     "output_type": "stream",
     "text": [
      "(1, 'DJ', 35, 'hr')\n",
      "(2, 'AJ', 41, 'operations')\n",
      "(3, 'Mark', 28, 'sales')\n"
     ]
    }
   ],
   "source": [
    "cursor.execute('select * from employees')\n",
    "rows = cursor.fetchall()\n",
    "\n",
    "for row in rows:\n",
    "    print(row)"
   ]
  },
  {
   "cell_type": "code",
   "execution_count": 11,
   "metadata": {},
   "outputs": [],
   "source": [
    "# Delete the data from the table\n",
    "\n",
    "cursor.execute('''\n",
    "Delete from employees\n",
    "        where name=\"Mark\"\n",
    "               ''')\n",
    "\n",
    "connection.commit()"
   ]
  },
  {
   "cell_type": "code",
   "execution_count": 12,
   "metadata": {},
   "outputs": [
    {
     "name": "stdout",
     "output_type": "stream",
     "text": [
      "(1, 'DJ', 35, 'hr')\n",
      "(2, 'AJ', 41, 'operations')\n"
     ]
    }
   ],
   "source": [
    "cursor.execute('select * from employees')\n",
    "rows = cursor.fetchall()\n",
    "\n",
    "for row in rows:\n",
    "    print(row)"
   ]
  },
  {
   "cell_type": "markdown",
   "metadata": {},
   "source": [
    "### Example 2"
   ]
  },
  {
   "cell_type": "code",
   "execution_count": 14,
   "metadata": {},
   "outputs": [],
   "source": [
    "connection = sqlite3.connect('sales_data.db')\n",
    "cursor = connection.cursor()\n",
    "\n",
    "cursor.execute('''\n",
    "CREATE TABLE IF NOT EXISTS sales(\n",
    "    id integer primary key,\n",
    "    date text not null,\n",
    "    product text not null,\n",
    "    sales integer,\n",
    "    region text\n",
    "    )               \n",
    "''')\n",
    "\n",
    "sales_data = [\n",
    "    ('2024-01-01', 'product1', 100, 'north'),\n",
    "    ('2024-01-02', 'product4', 1200, 'east'),\n",
    "    ('2024-01-03', 'product2', 300, 'north'),\n",
    "    ('2024-01-04', 'product4', 1200, 'west'),\n",
    "    ('2024-01-05', 'product3', 1900, 'south'),\n",
    "    ('2024-01-06', 'product1', 1000, 'north')\n",
    "]\n",
    "\n",
    "cursor.executemany('''\n",
    "insert into sales(date, product, sales, region)\n",
    "                values(?, ?, ?, ?)\n",
    "                   ''', sales_data)\n",
    "\n",
    "connection.commit()"
   ]
  },
  {
   "cell_type": "code",
   "execution_count": 15,
   "metadata": {},
   "outputs": [
    {
     "name": "stdout",
     "output_type": "stream",
     "text": [
      "(1, '2024-01-01', 'product1', 100, 'north')\n",
      "(2, '2024-01-02', 'product4', 1200, 'east')\n",
      "(3, '2024-01-03', 'product2', 300, 'north')\n",
      "(4, '2024-01-04', 'product4', 1200, 'west')\n",
      "(5, '2024-01-05', 'product3', 1900, 'south')\n",
      "(6, '2024-01-06', 'product1', 1000, 'north')\n"
     ]
    }
   ],
   "source": [
    "cursor.execute('select * from sales')\n",
    "rows = cursor.fetchall()\n",
    "\n",
    "for row in rows:\n",
    "    print(row)"
   ]
  },
  {
   "cell_type": "code",
   "execution_count": 16,
   "metadata": {},
   "outputs": [],
   "source": [
    "connection.close()"
   ]
  },
  {
   "cell_type": "code",
   "execution_count": null,
   "metadata": {},
   "outputs": [],
   "source": []
  }
 ],
 "metadata": {
  "kernelspec": {
   "display_name": "base",
   "language": "python",
   "name": "python3"
  },
  "language_info": {
   "codemirror_mode": {
    "name": "ipython",
    "version": 3
   },
   "file_extension": ".py",
   "mimetype": "text/x-python",
   "name": "python",
   "nbconvert_exporter": "python",
   "pygments_lexer": "ipython3",
   "version": "3.10.9"
  }
 },
 "nbformat": 4,
 "nbformat_minor": 2
}
